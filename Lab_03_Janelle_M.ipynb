{
 "cells": [
  {
   "cell_type": "code",
   "execution_count": 1,
   "id": "76b5773e",
   "metadata": {},
   "outputs": [
    {
     "name": "stdout",
     "output_type": "stream",
     "text": [
      "Non-vowel beginning words: ['banana', 'fried chicken', 'radish', 'coca cola', 'hamburger', 'lemonade', 'danish', 'sandwich bread', 'gatorade', 'cherry pie']\n"
     ]
    }
   ],
   "source": [
    "#Question 1 \n",
    "\n",
    "class List_Change:\n",
    "    def __init__(self, strings):\n",
    "        self.strings = strings\n",
    "\n",
    "    def remove_vowel_start(self):\n",
    "        vowels = 'aeiouy'\n",
    "        return [s for s in self.strings if not s[0] in vowels]\n",
    "\n",
    "test_list = [\"apple\",\n",
    "             \"banana\",\n",
    "             \"fried chicken\",\n",
    "             \"yogurt\",\n",
    "             \"radish\",\n",
    "             \"coca cola\",\n",
    "             \"hamburger\",\n",
    "             \"ice pop\",\n",
    "             \"lemonade\",\n",
    "             \"onion\",\n",
    "             \"danish\",\n",
    "             \"sandwich bread\",\n",
    "             \"gatorade\",\n",
    "             \"cherry pie\"\n",
    "             ]\n",
    "modify = List_Change(test_list)\n",
    "print(\"Non-vowel beginning words:\", modify.remove_vowel_start())\n",
    "\n",
    "\n",
    "#__init__() function refresh\n",
    "#https://www.w3schools.com/python/gloss_python_class_init.asp\n",
    "\n",
    "#self parameter \n",
    "#https://www.w3schools.com/python/gloss_python_self.asp"
   ]
  },
  {
   "cell_type": "code",
   "execution_count": 2,
   "id": "f7e6b534",
   "metadata": {},
   "outputs": [
    {
     "name": "stdout",
     "output_type": "stream",
     "text": [
      "Random words ['danish', 'fried chicken', 'cherry pie']\n"
     ]
    }
   ],
   "source": [
    "#Question 1 \n",
    "import random\n",
    "\n",
    "class List_Change:\n",
    "    def __init__(self, strings):\n",
    "        self.strings = strings\n",
    "\n",
    "    def choose_three_random(self):\n",
    "        return random.sample(self.strings, 3)\n",
    "\n",
    "test_list =[\"apple\",\n",
    "             \"banana\",\n",
    "             \"fried chicken\",\n",
    "             \"yogurt\",\n",
    "             \"radish\",\n",
    "             \"coca cola\",\n",
    "             \"hamburger\",\n",
    "             \"ice pop\",\n",
    "             \"lemonade\",\n",
    "             \"onion\",\n",
    "             \"danish\",\n",
    "             \"sandwich bread\",\n",
    "             \"gatorade\",\n",
    "             \"cherry pie\"\n",
    "             ] \n",
    "modify = List_Change(test_list)\n",
    "print(\"Random words\", modify.choose_three_random())\n"
   ]
  },
  {
   "cell_type": "code",
   "execution_count": 3,
   "id": "e8735e9a",
   "metadata": {},
   "outputs": [
    {
     "name": "stdout",
     "output_type": "stream",
     "text": [
      "Non-space words ['apple', 'banana', 'yogurt', 'radish', 'hamburger', 'lemonade', 'onion', 'danish', 'gatorade']\n"
     ]
    }
   ],
   "source": [
    "#Question 1\n",
    "class List_Change:\n",
    "    def __init__(self, strings):\n",
    "        self.strings = strings\n",
    "\n",
    "    def remove_blanks(self):\n",
    "        return [s for s in self.strings if ' ' not in s]\n",
    "\n",
    "test_list = [\"apple\",\n",
    "             \"banana\",\n",
    "             \"fried chicken\",\n",
    "             \"yogurt\",\n",
    "             \"radish\",\n",
    "             \"coca cola\",\n",
    "             \"hamburger\",\n",
    "             \"ice pop\",\n",
    "             \"lemonade\",\n",
    "             \"onion\",\n",
    "             \"danish\",\n",
    "             \"sandwich bread\",\n",
    "             \"gatorade\",\n",
    "             \"cherry pie\"\n",
    "             ]\n",
    "modify = List_Change(test_list)\n",
    "print(\"Non-space words\", modify.remove_blanks())\n",
    "\n"
   ]
  },
  {
   "cell_type": "code",
   "execution_count": 4,
   "id": "5cd101b9",
   "metadata": {},
   "outputs": [
    {
     "name": "stdout",
     "output_type": "stream",
     "text": [
      "Edited list ['apple', 'banana', 'fried chicken', 'yogurt', 'radish', 'coca cola', 'hamburger', 'ice pop', 'lemonade', 'onion', 'danish', 'sandwich bread', 'gatorade', 'cherry pie', 'danish', 'coca cola', 'onion', 'apple', 'yogurt', 'radish', 'banana', 'fried chicken', 'hamburger', 'gatorade', 'lemonade', 'cherry pie', 'sandwich bread', 'ice pop']\n"
     ]
    }
   ],
   "source": [
    "#Question 1\n",
    "import random\n",
    "\n",
    "class List_Change:\n",
    "    def __init__(self, strings):\n",
    "        self.strings = strings\n",
    "\n",
    "    def shuffle_and_append(self):\n",
    "        shuffled_list = self.strings[:]\n",
    "        random.shuffle(shuffled_list)\n",
    "        self.strings.extend(shuffled_list)\n",
    "        return self.strings\n",
    "\n",
    "test_list = [\"apple\",\n",
    "             \"banana\",\n",
    "             \"fried chicken\",\n",
    "             \"yogurt\",\n",
    "             \"radish\",\n",
    "             \"coca cola\",\n",
    "             \"hamburger\",\n",
    "             \"ice pop\",\n",
    "             \"lemonade\",\n",
    "             \"onion\",\n",
    "             \"danish\",\n",
    "             \"sandwich bread\",\n",
    "             \"gatorade\",\n",
    "             \"cherry pie\"\n",
    "             ]\n",
    "modify = List_Change(test_list)\n",
    "print(\"Edited list\", modify.shuffle_and_append())\n"
   ]
  },
  {
   "cell_type": "code",
   "execution_count": 5,
   "id": "c8c29755",
   "metadata": {},
   "outputs": [
    {
     "name": "stdout",
     "output_type": "stream",
     "text": [
      "APPLE\n",
      "BANANA\n",
      "FRIED CHICKEN\n",
      "YOGURT\n",
      "RADISH\n",
      "COCA COLA\n",
      "HAMBURGER\n",
      "ICE POP\n",
      "LEMONADE\n",
      "ONION\n",
      "DANISH\n",
      "SANDWICH BREAD\n",
      "GATORADE\n",
      "CHERRY PIE\n"
     ]
    }
   ],
   "source": [
    "#Question 1\n",
    "class List_Change:\n",
    "    def __init__(self, strings):\n",
    "        self.strings = strings\n",
    "\n",
    "    def print_uppercase(self):\n",
    "        for s in self.strings:\n",
    "            print(s.upper())\n",
    "\n",
    "test_list = [\"apple\",\n",
    "             \"banana\",\n",
    "             \"fried chicken\",\n",
    "             \"yogurt\",\n",
    "             \"radish\",\n",
    "             \"coca cola\",\n",
    "             \"hamburger\",\n",
    "             \"ice pop\",\n",
    "             \"lemonade\",\n",
    "             \"onion\",\n",
    "             \"danish\",\n",
    "             \"sandwich bread\",\n",
    "             \"gatorade\",\n",
    "             \"cherry pie\"\n",
    "             ]\n",
    "modify = List_Change(test_list)\n",
    "modify.print_uppercase()\n"
   ]
  },
  {
   "cell_type": "code",
   "execution_count": 6,
   "id": "716cf6eb",
   "metadata": {},
   "outputs": [
    {
     "name": "stdout",
     "output_type": "stream",
     "text": [
      "Sorted list: ['apple', 'banana', 'cherry pie', 'coca cola', 'danish', 'fried chicken', 'gatorade', 'hamburger', 'ice pop', 'lemonade', 'onion', 'radish', 'sandwich bread', 'yogurt']\n"
     ]
    }
   ],
   "source": [
    "#Question 1 \n",
    "class List_Change:\n",
    "    def __init__(self, strings):\n",
    "        self.strings= strings\n",
    "\n",
    "    def sort_alphabetically(self):\n",
    "        return sorted(self.strings)\n",
    "\n",
    "test_list =[\"apple\",\n",
    "             \"banana\",\n",
    "             \"fried chicken\",\n",
    "             \"yogurt\",\n",
    "             \"radish\",\n",
    "             \"coca cola\",\n",
    "             \"hamburger\",\n",
    "             \"ice pop\",\n",
    "             \"lemonade\",\n",
    "             \"onion\",\n",
    "             \"danish\",\n",
    "             \"sandwich bread\",\n",
    "             \"gatorade\",\n",
    "             \"cherry pie\"\n",
    "             ]\n",
    "modify = List_Change(test_list)\n",
    "print(\"Sorted list:\", modify.sort_alphabetically())\n"
   ]
  },
  {
   "cell_type": "code",
   "execution_count": 8,
   "id": "5f9c1e51",
   "metadata": {},
   "outputs": [
    {
     "name": "stdout",
     "output_type": "stream",
     "text": [
      "List right now: ['apple', 'banana', 'fried chicken', 'yogurt', 'radish', 'coca cola', 'hamburger', 'ice pop', 'lemonade', 'onion', 'danish', 'sandwich bread', 'gatorade', 'cherry pie']\n",
      "What do you want to delete?pop\n",
      "Not found\n"
     ]
    },
    {
     "data": {
      "text/plain": [
       "['apple',\n",
       " 'banana',\n",
       " 'fried chicken',\n",
       " 'yogurt',\n",
       " 'radish',\n",
       " 'coca cola',\n",
       " 'hamburger',\n",
       " 'ice pop',\n",
       " 'lemonade',\n",
       " 'onion',\n",
       " 'danish',\n",
       " 'sandwich bread',\n",
       " 'gatorade',\n",
       " 'cherry pie']"
      ]
     },
     "execution_count": 8,
     "metadata": {},
     "output_type": "execute_result"
    }
   ],
   "source": [
    "#Question 1 \n",
    "class List_Change:\n",
    "    def __init__(self, strings):\n",
    "        self.strings = strings\n",
    "\n",
    "    def delete_string(self):\n",
    "        print(\"List right now:\", self.strings)\n",
    "        string_to_delete = input(\"What do you want to delete?\")\n",
    "        if string_to_delete in self.strings:\n",
    "            self.strings.remove(string_to_delete)\n",
    "            print(f\"'{string_to_delete}' has been deleted! \")\n",
    "        else:\n",
    "            print(\"Not found\")\n",
    "        return self.strings\n",
    "\n",
    "test_list = [\"apple\",\n",
    "             \"banana\",\n",
    "             \"fried chicken\",\n",
    "             \"yogurt\",\n",
    "             \"radish\",\n",
    "             \"coca cola\",\n",
    "             \"hamburger\",\n",
    "             \"ice pop\",\n",
    "             \"lemonade\",\n",
    "             \"onion\",\n",
    "             \"danish\",\n",
    "             \"sandwich bread\",\n",
    "             \"gatorade\",\n",
    "             \"cherry pie\"\n",
    "             ]\n",
    "modify = List_Change(test_list)\n",
    "modify.delete_string()\n"
   ]
  },
  {
   "cell_type": "code",
   "execution_count": 9,
   "id": "4070c5c5",
   "metadata": {},
   "outputs": [
    {
     "name": "stdout",
     "output_type": "stream",
     "text": [
      "Words reversed:  ['elppa', 'ananab', 'nekcihc deirf', 'trugoy', 'hsidar', 'aloc acoc', 'regrubmah', 'pop eci', 'edanomel', 'noino', 'hsinad', 'daerb hciwdnas', 'edarotag', 'eip yrrehc']\n"
     ]
    }
   ],
   "source": [
    "#Question 1 \n",
    "class List_Change:\n",
    "    def __init__(self, strings):\n",
    "        self.strings = strings\n",
    "\n",
    "    def reverse_strings(self):\n",
    "        return [s[::-1] for s in self.strings]\n",
    "\n",
    "test_list = [\"apple\",\n",
    "             \"banana\",\n",
    "             \"fried chicken\",\n",
    "             \"yogurt\",\n",
    "             \"radish\",\n",
    "             \"coca cola\",\n",
    "             \"hamburger\",\n",
    "             \"ice pop\",\n",
    "             \"lemonade\",\n",
    "             \"onion\",\n",
    "             \"danish\",\n",
    "             \"sandwich bread\",\n",
    "             \"gatorade\",\n",
    "             \"cherry pie\"\n",
    "             ]\n",
    "modify = List_Change(test_list)\n",
    "print(\"Words reversed: \", modify.reverse_strings())\n",
    "\n",
    "#operators once again\n",
    "#https://www.w3schools.com/python/python_operators.asp"
   ]
  },
  {
   "cell_type": "code",
   "execution_count": null,
   "id": "209e8f7a",
   "metadata": {},
   "outputs": [],
   "source": [
    "#Question 2 "
   ]
  },
  {
   "cell_type": "code",
   "execution_count": null,
   "id": "5fde467c",
   "metadata": {},
   "outputs": [],
   "source": []
  }
 ],
 "metadata": {
  "kernelspec": {
   "display_name": "Python 3 (ipykernel)",
   "language": "python",
   "name": "python3"
  },
  "language_info": {
   "codemirror_mode": {
    "name": "ipython",
    "version": 3
   },
   "file_extension": ".py",
   "mimetype": "text/x-python",
   "name": "python",
   "nbconvert_exporter": "python",
   "pygments_lexer": "ipython3",
   "version": "3.11.4"
  }
 },
 "nbformat": 4,
 "nbformat_minor": 5
}
